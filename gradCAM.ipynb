{
 "cells": [
  {
   "cell_type": "code",
   "execution_count": null,
   "metadata": {},
   "outputs": [],
   "source": [
    "from torchvision import models\n",
    "import numpy as np\n",
    "import cv2\n",
    "import PIL\n",
    "\n",
    "from pytorch_grad_cam import GradCAM,GradCAMPlusPlus\n",
    "from pytorch_grad_cam.utils.model_targets import ClassifierOutputTarget\n",
    "from pytorch_grad_cam.utils.image import show_cam_on_image,preprocess_image"
   ]
  },
  {
   "cell_type": "code",
   "execution_count": null,
   "metadata": {},
   "outputs": [],
   "source": [
    "# use the pretrained ResNet50 model\n",
    "model = models.resnet50(pretrained=True)\n",
    "model.eval()\n"
   ]
  },
  {
   "cell_type": "code",
   "execution_count": null,
   "metadata": {},
   "outputs": [],
   "source": [
    "# fix target class label (of the Imagenet class of interest!)\n",
    "# 1: goldfish, 250: Siberian Husky, 947: mushroom\n",
    "\n",
    "# targets = [ClassifierOutputTarget(<target-class-number>)] \n",
    "targets = [ClassifierOutputTarget(1)] \n",
    "\n",
    "# fix the target layer (after which we'd like to generate the CAM)\n",
    "target_layers = [model.layer4]"
   ]
  },
  {
   "cell_type": "code",
   "execution_count": null,
   "metadata": {},
   "outputs": [],
   "source": [
    "# instantiate the model\n",
    "cam = GradCAM(model=model, target_layers=target_layers) # use GradCamPlusPlus class\n",
    "\n",
    "# Preprocess input image, get the input image tensor\n",
    "img = np.array(PIL.Image.open('<image-file-path>'))\n",
    "img = cv2.resize(img, (300,300))\n",
    "img = np.float32(img) / 255\n",
    "input_tensor = preprocess_image(img)\n",
    "\n",
    "# generate CAM\n",
    "grayscale_cams = cam(input_tensor=input_tensor, targets=targets)\n",
    "cam_image = show_cam_on_image(img, grayscale_cams[0, :], use_rgb=True)\n",
    "\n",
    "cam = np.uint8(255*grayscale_cams[0, :])\n",
    "cam = cv2.merge([cam, cam, cam])\n",
    "\n",
    "# display the original image & the associated CAM\n",
    "images = np.hstack((np.uint8(255*img), cam_image))\n",
    "PIL.Image.fromarray(images)"
   ]
  },
  {
   "cell_type": "code",
   "execution_count": null,
   "metadata": {},
   "outputs": [],
   "source": []
  }
 ],
 "metadata": {
  "language_info": {
   "name": "python"
  }
 },
 "nbformat": 4,
 "nbformat_minor": 2
}
